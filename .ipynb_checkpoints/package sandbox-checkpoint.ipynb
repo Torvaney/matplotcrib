{
 "cells": [
  {
   "cell_type": "code",
   "execution_count": 1,
   "metadata": {
    "collapsed": true
   },
   "outputs": [],
   "source": [
    "import matplotlib.pyplot as plt\n",
    "import pandas as pd\n",
    "import numpy as np\n",
    "\n",
    "%matplotlib inline"
   ]
  },
  {
   "cell_type": "code",
   "execution_count": 2,
   "metadata": {
    "collapsed": true
   },
   "outputs": [],
   "source": [
    "# Generate some data to use\n",
    "n = 500  # number of data points\n",
    "\n",
    "x = np.random.rand(n)  # random x co-ordinates\n",
    "y = 5 * x + np.random.randn(n)  # y as a function of x with some added noise\n",
    "z = [chr(i) for i in np.random.randint(97, 97+8, n)]  # sample text labels\n",
    "\n",
    "coords = pd.DataFrame({\n",
    "        'x': x,\n",
    "        'y': y,\n",
    "        'z': z\n",
    "    })"
   ]
  },
  {
   "cell_type": "code",
   "execution_count": 3,
   "metadata": {
    "collapsed": false
   },
   "outputs": [],
   "source": [
    "# Define some helper functions (should probably go into class as static methods tbh)\n",
    "def categorical_lookup(series):\n",
    "    return dict(zip(series, np.arange(1, len(series) + 1)))\n",
    "\n",
    "\n",
    "def facet_dimensions(number_of_plots):\n",
    "    sqrt_nplots = np.sqrt(number_of_plots)\n",
    "    side_length = int(sqrt_nplots)\n",
    "    nrows, ncols = (side_length, side_length)\n",
    "    \n",
    "    if sqrt_nplots > (side_length + 0.5):\n",
    "        nrows += 1\n",
    "        ncols += 1\n",
    "    elif sqrt_nplots > (side_length):\n",
    "        nrows += 1\n",
    "    \n",
    "    return nrows, ncols\n",
    "\n",
    "\n",
    "def apply_style_continuous(ax):\n",
    "    ax.spines[\"bottom\"].set_color('dimgray')\n",
    "    ax.spines[\"left\"].set_color('dimgray')\n",
    "    ax.tick_params(colors='dimgray')\n",
    "    # Remove top and bottom spines\n",
    "    ax.spines[\"top\"].set_visible(False)  \n",
    "    ax.spines[\"right\"].set_visible(False)\n",
    "    # Remove extra ticks\n",
    "    ax.get_xaxis().tick_bottom()  \n",
    "    ax.get_yaxis().tick_left()\n",
    "    # Set background colour\n",
    "    ax.set_axis_bgcolor('snow')\n",
    "    \n",
    "def apply_style_discrete(ax):\n",
    "    return None\n",
    "    \n",
    "    \n",
    "def apply_style_blank(ax):\n",
    "    ax.axis('off')"
   ]
  },
  {
   "cell_type": "code",
   "execution_count": 13,
   "metadata": {
    "collapsed": false
   },
   "outputs": [],
   "source": [
    "# The main plotting class\n",
    "class CribPlot:\n",
    "    def __init__(self, data, aes=None):\n",
    "        self.data = data\n",
    "        self.aes = aes\n",
    "        self.fig = None\n",
    "        self.axes = None\n",
    "        \n",
    "    def aesthetics(self, x=None, y=None, by=None, **kwargs):\n",
    "        if by is None:\n",
    "            number_of_plots = 1\n",
    "\n",
    "            # Create dummy variable for faceting\n",
    "            by = 'by'\n",
    "            self.data['by'] = 1\n",
    "        else:\n",
    "            number_of_plots = len(self.data[by].unique())\n",
    "        \n",
    "        nrows, ncols = facet_dimensions(number_of_plots)\n",
    "        \n",
    "        fig = plt.figure(**kwargs)\n",
    "        axes = [plt.subplot(nrows, ncols, i) for i in range(1, number_of_plots+1)]\n",
    "        \n",
    "        self.fig = fig\n",
    "        self.axes = axes\n",
    "        self.aes = {\n",
    "            'x': x,\n",
    "            'y': y,\n",
    "            'by': by\n",
    "        }\n",
    "        \n",
    "        return self\n",
    "    \n",
    "    def points(self, categorical=None):\n",
    "        xdata = self.data[self.aes['x']]\n",
    "        ydata = self.data[self.aes['y']]\n",
    "        \n",
    "        categories = sorted(self.data[self.aes['by']].unique())\n",
    "        \n",
    "        for i, ax in enumerate(self.axes):\n",
    "            if i < len(categories):\n",
    "                \n",
    "                subcat = categories[i]\n",
    "                plot_data = self.data.loc[lambda df: df[self.aes['by']] == subcat]\n",
    "\n",
    "                # could create a kwargs dict dynamically?\n",
    "                ax.scatter(xdata, ydata)\n",
    "                apply_style_continuous(ax)\n",
    "                \n",
    "            else:\n",
    "                apply_style_blank(ax)\n"
   ]
  },
  {
   "cell_type": "code",
   "execution_count": 14,
   "metadata": {
    "collapsed": false
   },
   "outputs": [
    {
     "data": {
      "image/png": "[encoded data removed]",
      "text/plain": [
       "<matplotlib.figure.Figure at 0x1137f7a58>"
      ]
     },
     "metadata": {},
     "output_type": "display_data"
    }
   ],
   "source": [
    "(CribPlot(coords)\n",
    " .aesthetics(x='x', y='y')\n",
    " .points())"
   ]
  },
  {
   "cell_type": "code",
   "execution_count": null,
   "metadata": {
    "collapsed": true
   },
   "outputs": [],
   "source": []
  }
 ],
 "metadata": {
  "kernelspec": {
   "display_name": "Python 3",
   "language": "python",
   "name": "python3"
  },
  "language_info": {
   "codemirror_mode": {
    "name": "ipython",
    "version": 3
   },
   "file_extension": ".py",
   "mimetype": "text/x-python",
   "name": "python",
   "nbconvert_exporter": "python",
   "pygments_lexer": "ipython3",
   "version": "3.5.2"
  }
 },
 "nbformat": 4,
 "nbformat_minor": 0
}
