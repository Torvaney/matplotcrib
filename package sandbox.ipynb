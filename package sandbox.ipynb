{
 "cells": [
  {
   "cell_type": "code",
   "execution_count": 1,
   "metadata": {
    "collapsed": true
   },
   "outputs": [],
   "source": [
    "import matplotlib.pyplot as plt\n",
    "import pandas as pd\n",
    "import numpy as np\n",
    "\n",
    "%matplotlib inline"
   ]
  },
  {
   "cell_type": "code",
   "execution_count": 2,
   "metadata": {
    "collapsed": true
   },
   "outputs": [],
   "source": [
    "# Generate some data to use\n",
    "n = 500  # number of data points\n",
    "\n",
    "x = np.random.rand(n)  # random x co-ordinates\n",
    "y = 5 * x + np.random.randn(n)  # y as a function of x with some added noise\n",
    "z = [chr(i) for i in np.random.randint(97, 97+8, n)]  # sample text labels\n",
    "\n",
    "coords = pd.DataFrame({\n",
    "        'x': x,\n",
    "        'y': y,\n",
    "        'z': z\n",
    "    })"
   ]
  },
  {
   "cell_type": "code",
   "execution_count": 3,
   "metadata": {
    "collapsed": false
   },
   "outputs": [],
   "source": [
    "# Define some helper functions (should probably go into class as static methods tbh)\n",
    "def categorical_lookup(series):\n",
    "    unique_vals = sorted(series.unique())\n",
    "    return dict(zip(unique_vals, np.arange(1, len(unique_vals) + 1)))\n",
    "\n",
    "\n",
    "def facet_dimensions(number_of_plots):\n",
    "    sqrt_nplots = np.sqrt(number_of_plots)\n",
    "    side_length = int(sqrt_nplots)\n",
    "    nrows, ncols = (side_length, side_length)\n",
    "    \n",
    "    if sqrt_nplots > (side_length + 0.5):\n",
    "        nrows += 1\n",
    "        ncols += 1\n",
    "    elif sqrt_nplots > (side_length):\n",
    "        nrows += 1\n",
    "    \n",
    "    return nrows, ncols\n",
    "\n",
    "\n",
    "def apply_style_continuous(ax):\n",
    "    ax.spines[\"bottom\"].set_color('dimgray')\n",
    "    ax.spines[\"left\"].set_color('dimgray')\n",
    "    ax.tick_params(colors='dimgray')\n",
    "    # Remove top and bottom spines\n",
    "    ax.spines[\"top\"].set_visible(False)  \n",
    "    ax.spines[\"right\"].set_visible(False)\n",
    "    # Remove extra ticks\n",
    "    ax.get_xaxis().tick_bottom()  \n",
    "    ax.get_yaxis().tick_left()\n",
    "    # Set background colour\n",
    "    ax.set_axis_bgcolor('snow')\n",
    "    \n",
    "def apply_style_discrete(ax, lookup, categorical):\n",
    "    if categorical == 'x':\n",
    "        ax.set_xticks(list(lookup.values()))\n",
    "        ax.set_xticklabels(list(lookup.keys()))\n",
    "    elif categorical == 'y':\n",
    "        ax.set_yticks(list(lookup.values()))\n",
    "        ax.set_yticklabels(list(lookup.keys()))\n",
    "\n",
    "    # Change axes colour\n",
    "    ax.spines[\"bottom\"].set_color('dimgray')\n",
    "    ax.spines[\"left\"].set_color('dimgray')\n",
    "    ax.tick_params(colors='dimgray')\n",
    "\n",
    "    # Remove top and bottom spines\n",
    "    ax.spines[\"top\"].set_visible(False)  \n",
    "    ax.spines[\"right\"].set_visible(False)\n",
    "    ax.spines[\"left\"].set_visible(False)\n",
    "\n",
    "    # Remove extra ticks\n",
    "    if categorical == 'x':\n",
    "        ax.get_xaxis().tick_bottom()  \n",
    "        ax.tick_params(\n",
    "            axis='x',          # changes apply to the x-axis (could do outside of loop?)\n",
    "            which='both',      # both major and minor ticks are affected\n",
    "            left='on',         # ticks along the bottom edge are off\n",
    "            right='off'        # ticks along the top edge are off\n",
    "        )\n",
    "\n",
    "        ax.xaxis.grid(True, which='major', color='dimgray', linestyle='dotted') \n",
    "        ax.set_xlim([min(list(lookup.values())) - 1, max(list(lookup.values())) + 1])\n",
    "    elif categorical == 'y':\n",
    "        ax.get_yaxis().tick_left()  \n",
    "        ax.tick_params(\n",
    "            axis='y',          # changes apply to the y-axis\n",
    "            which='both',      # both major and minor ticks are affected\n",
    "            left='on',         # ticks along the bottom edge are off\n",
    "            right='off'        # ticks along the top edge are off\n",
    "        )\n",
    "\n",
    "        ax.yaxis.grid(True, which='major', color='dimgray', linestyle='dotted') \n",
    "        ax.set_ylim(\n",
    "            (min(list(lookup.values())) - 1,\n",
    "             max(list(lookup.values())) + 1)\n",
    "        )\n",
    "\n",
    "    # Set background colour\n",
    "    ax.set_axis_bgcolor('snow')\n",
    "    \n",
    "    \n",
    "def apply_style_blank(ax):\n",
    "    ax.axis('off')"
   ]
  },
  {
   "cell_type": "code",
   "execution_count": 4,
   "metadata": {
    "collapsed": false
   },
   "outputs": [],
   "source": [
    "# The main plotting class\n",
    "class CribPlot:\n",
    "    def __init__(self, data, aes=None, **kwargs):\n",
    "        self.data = data\n",
    "        self.aes = aes\n",
    "        self.fig = plt.figure(**kwargs)\n",
    "        self.axes = None\n",
    "        \n",
    "    def aesthetics(self, x=None, y=None, by=None, **kwargs):\n",
    "        if by is None:\n",
    "            number_of_plots = 1\n",
    "\n",
    "            # Create dummy variable for faceting\n",
    "            by = 'by'\n",
    "            self.data['by'] = 1\n",
    "        else:\n",
    "            number_of_plots = len(self.data[by].unique())\n",
    "        \n",
    "        nrows, ncols = facet_dimensions(number_of_plots)\n",
    "        \n",
    "        axes = [plt.subplot(nrows, ncols, i) for i in range(1, number_of_plots+1)]\n",
    "        self.axes = axes\n",
    "        self.aes = {\n",
    "            'x': x,\n",
    "            'y': y,\n",
    "            'by': by\n",
    "        }\n",
    "        \n",
    "        return self\n",
    "    \n",
    "    def points(self, categorical=None, aes=None, **kwargs):\n",
    "        categories = sorted(self.data[self.aes['by']].unique())\n",
    "        \n",
    "        for i, ax in enumerate(self.axes):\n",
    "            if i < len(categories):\n",
    "                \n",
    "                subcat = categories[i]\n",
    "                plot_data = self.data.loc[lambda df: df[self.aes['by']] == subcat]\n",
    "                \n",
    "                xdata = plot_data[self.aes['x']]\n",
    "                ydata = plot_data[self.aes['y']]\n",
    "\n",
    "                if categorical is None:\n",
    "                    # could create a kwargs dict dynamically or through a loop or something\n",
    "                    ax.scatter(xdata, ydata, **kwargs)\n",
    "                    apply_style_continuous(ax)\n",
    "                    \n",
    "                elif categorical is 'x':\n",
    "                    xlookup = categorical_lookup(plot_data[self.aes['x']])\n",
    "                    ax.scatter(xdata.replace(xlookup), ydata, **kwargs)\n",
    "                    apply_style_discrete(ax, xlookup, categorical)\n",
    "    \n",
    "                elif categorical is 'y':\n",
    "                    ylookup = categorical_lookup(plot_data[self.aes['y']])\n",
    "                    ax.scatter(xdata, ydata.replace(ylookup), **kwargs)\n",
    "                    apply_style_discrete(ax, ylookup, categorical)\n",
    "                \n",
    "            else:\n",
    "                apply_style_blank(ax)\n",
    "                \n",
    "            return self\n",
    "                \n",
    "    def histogram(self, aes=None, **kwargs):\n",
    "        categories = sorted(self.data[self.aes['by']].unique())\n",
    "        \n",
    "        for i, ax in enumerate(self.axes):\n",
    "            if i < len(categories):\n",
    "                \n",
    "                subcat = categories[i]\n",
    "                plot_data = self.data.loc[lambda df: df[self.aes['by']] == subcat]\n",
    "\n",
    "                xdata = plot_data[self.aes['x']]\n",
    "                \n",
    "                ax.hist(xdata)\n",
    "                apply_style_continuous(ax)\n",
    "                \n",
    "            else:\n",
    "                apply_style_blank(ax)\n",
    "                \n",
    "        return self\n"
   ]
  },
  {
   "cell_type": "code",
   "execution_count": 5,
   "metadata": {
    "collapsed": false
   },
   "outputs": [
    {
     "data": {
      "text/plain": [
       "<__main__.CribPlot at 0x115097c88>"
      ]
     },
     "execution_count": 5,
     "metadata": {},
     "output_type": "execute_result"
    },
    {
     "data": {
      "image/png": "[encoded data removed]",
      "text/plain": [
       "<matplotlib.figure.Figure at 0x115097518>"
      ]
     },
     "metadata": {},
     "output_type": "display_data"
    }
   ],
   "source": [
    "(CribPlot(coords)\n",
    " .aesthetics(x='x', y='y', by='z')\n",
    " .histogram())"
   ]
  },
  {
   "cell_type": "code",
   "execution_count": 7,
   "metadata": {
    "collapsed": false
   },
   "outputs": [
    {
     "data": {
      "text/plain": [
       "<__main__.CribPlot at 0x1179ebda0>"
      ]
     },
     "execution_count": 7,
     "metadata": {},
     "output_type": "execute_result"
    },
    {
     "data": {
      "image/png": "[encoded data removed]",
      "text/plain": [
       "<matplotlib.figure.Figure at 0x115014860>"
      ]
     },
     "metadata": {},
     "output_type": "display_data"
    }
   ],
   "source": [
    "(coords\n",
    " .pipe(CribPlot)\n",
    " .aesthetics(x='x', y='z')\n",
    " .points(categorical='y', color='blue')\n",
    " .aesthetics(x='y', y='z')\n",
    " .points(categorical='y', color='tomato'))"
   ]
  },
  {
   "cell_type": "code",
   "execution_count": null,
   "metadata": {
    "collapsed": true
   },
   "outputs": [],
   "source": []
  }
 ],
 "metadata": {
  "anaconda-cloud": {},
  "kernelspec": {
   "display_name": "Python [Root]",
   "language": "python",
   "name": "Python [Root]"
  },
  "language_info": {
   "codemirror_mode": {
    "name": "ipython",
    "version": 3
   },
   "file_extension": ".py",
   "mimetype": "text/x-python",
   "name": "python",
   "nbconvert_exporter": "python",
   "pygments_lexer": "ipython3",
   "version": "3.5.2"
  }
 },
 "nbformat": 4,
 "nbformat_minor": 0
}
